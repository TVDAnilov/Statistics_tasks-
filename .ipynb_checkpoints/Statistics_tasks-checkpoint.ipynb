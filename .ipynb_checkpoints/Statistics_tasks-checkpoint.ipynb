{
 "cells": [
  {
   "cell_type": "markdown",
   "id": "bf28e6da",
   "metadata": {},
   "source": [
    "###  Вычислить дисперсию, стандартное отклонение и широту для\n",
    "20 15 24 10 8 19 24"
   ]
  },
  {
   "cell_type": "code",
   "execution_count": 2,
   "id": "748313fd",
   "metadata": {},
   "outputs": [],
   "source": [
    "array_data = [20,15,24,10,8,19,24]"
   ]
  },
  {
   "cell_type": "markdown",
   "id": "391cbd39",
   "metadata": {},
   "source": [
    "#### Широта"
   ]
  },
  {
   "cell_type": "code",
   "execution_count": 7,
   "id": "96d66751",
   "metadata": {},
   "outputs": [
    {
     "name": "stdout",
     "output_type": "stream",
     "text": [
      "Широта для выборки: 24 - 8 = 16\n"
     ]
    }
   ],
   "source": [
    "max_item = max(array_data)\n",
    "min_item = min(array_data)\n",
    "print(f'Широта для выборки: {max_item} - {min_item} = {max_item - min_item}')"
   ]
  },
  {
   "cell_type": "code",
   "execution_count": null,
   "id": "2b7deab4",
   "metadata": {},
   "outputs": [],
   "source": []
  }
 ],
 "metadata": {
  "kernelspec": {
   "display_name": "Python 3 (ipykernel)",
   "language": "python",
   "name": "python3"
  },
  "language_info": {
   "codemirror_mode": {
    "name": "ipython",
    "version": 3
   },
   "file_extension": ".py",
   "mimetype": "text/x-python",
   "name": "python",
   "nbconvert_exporter": "python",
   "pygments_lexer": "ipython3",
   "version": "3.11.3"
  }
 },
 "nbformat": 4,
 "nbformat_minor": 5
}
