{
 "cells": [
  {
   "cell_type": "markdown",
   "id": "bf28e6da",
   "metadata": {},
   "source": [
    "###  Вычислить дисперсию, стандартное отклонение и широту для\n",
    "20 15 24 10 8 19 24"
   ]
  },
  {
   "cell_type": "code",
   "execution_count": 1,
   "id": "748313fd",
   "metadata": {},
   "outputs": [],
   "source": [
    "array_data = [20,15,24,10,8,19,24]"
   ]
  },
  {
   "cell_type": "markdown",
   "id": "391cbd39",
   "metadata": {},
   "source": [
    "#### Широта"
   ]
  },
  {
   "cell_type": "code",
   "execution_count": null,
   "id": "96d66751",
   "metadata": {},
   "outputs": [],
   "source": []
  }
 ],
 "metadata": {
  "kernelspec": {
   "display_name": "Python 3 (ipykernel)",
   "language": "python",
   "name": "python3"
  },
  "language_info": {
   "codemirror_mode": {
    "name": "ipython",
    "version": 3
   },
   "file_extension": ".py",
   "mimetype": "text/x-python",
   "name": "python",
   "nbconvert_exporter": "python",
   "pygments_lexer": "ipython3",
   "version": "3.11.3"
  }
 },
 "nbformat": 4,
 "nbformat_minor": 5
}
