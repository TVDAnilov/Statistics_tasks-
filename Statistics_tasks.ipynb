{
 "cells": [
  {
   "cell_type": "markdown",
   "id": "bf28e6da",
   "metadata": {},
   "source": [
    "###  Вычислить дисперсию, стандартное отклонение и широту для\n",
    "20 15 24 10 8 19 24"
   ]
  },
  {
   "cell_type": "code",
   "execution_count": 2,
   "id": "748313fd",
   "metadata": {},
   "outputs": [],
   "source": [
    "array_data = [20,15,24,10,8,19,24]"
   ]
  },
  {
   "cell_type": "markdown",
   "id": "391cbd39",
   "metadata": {},
   "source": [
    "#### Широта"
   ]
  },
  {
   "cell_type": "code",
   "execution_count": 7,
   "id": "96d66751",
   "metadata": {},
   "outputs": [
    {
     "name": "stdout",
     "output_type": "stream",
     "text": [
      "Широта для выборки: 24 - 8 = 16\n"
     ]
    }
   ],
   "source": [
    "max_item = max(array_data)\n",
    "min_item = min(array_data)\n",
    "print(f'Широта для выборки: {max_item} - {min_item} = {max_item - min_item}')"
   ]
  },
  {
   "cell_type": "markdown",
   "id": "33680b8b",
   "metadata": {},
   "source": [
    "#### Дисперсия выборки ($ S^2 $)\n",
    "\n",
    "$\n",
    "S^2 = \\frac{\\sum_{i=1}^{n}(x_i - \\bar{x})^2}{n-1}\n",
    "$\n",
    "\n",
    "\n",
    "Где:\n",
    "- $  S^2 $ - дисперсия выборки\n",
    "- $  n  $  - размер выборки\n",
    "- $ x_i $  - каждое значение в выборке\n",
    "- $ \\overline{x} $ - среднее значение выборки\n"
   ]
  },
  {
   "cell_type": "code",
   "execution_count": 27,
   "id": "6d28ba69",
   "metadata": {},
   "outputs": [
    {
     "name": "stdout",
     "output_type": "stream",
     "text": [
      "Дисперсия выборки: 40.80952380952382\n"
     ]
    }
   ],
   "source": [
    "n = len(array_data)                     # размер выборки\n",
    "average = sum(array_data) / n           # среднее значение\n",
    "#print(f'average = {average}')\n",
    "tmp = 0 \n",
    "for x in array_data:\n",
    "    tmp += (x - average)**2             # вычисление суммы  \n",
    "s = tmp / (n - 1)                       # вычисление дисперсии выборки\n",
    "print(f'Дисперсия выборки: {s}')"
   ]
  },
  {
   "cell_type": "markdown",
   "id": "44842f51",
   "metadata": {},
   "source": [
    "#### Стандартное отклонение выборки ($\\sigma $)\n",
    "\n",
    "$  \\sigma = \\sqrt{\\sigma^2} = \\sqrt{\\frac{\\sum_{i=1}^{n}(x_i - \\bar{x})^2}{n}} \\ $\n",
    "\n",
    "Где:\n",
    "- $ \\sigma $ - стандартное отклонение\n",
    "- $ n $ - размер выборки\n",
    "- $ x_i $ - каждое значение в выборке\n",
    "- $ \\bar{x} $ - среднее значение выборки\n"
   ]
  },
  {
   "cell_type": "code",
   "execution_count": 32,
   "id": "2a0620b9",
   "metadata": {},
   "outputs": [
    {
     "name": "stdout",
     "output_type": "stream",
     "text": [
      "Среднее отклонение выборки: 6.388233230676837\n"
     ]
    }
   ],
   "source": [
    "n = len(array_data)                     # размер выборки\n",
    "average = sum(array_data) / n           # среднее значение\n",
    "#print(f'average = {average}')\n",
    "tmp = 0 \n",
    "for x in array_data:\n",
    "    tmp += (x - average)**2             # вычисление суммы  \n",
    "sigma = tmp / (n - 1)                       # вычисление дисперсии выборки\n",
    "sigma = s**0.5                              # Извлечение корня\n",
    "print(f'Среднее отклонение выборки: {s}')"
   ]
  },
  {
   "cell_type": "code",
   "execution_count": null,
   "id": "58858422",
   "metadata": {},
   "outputs": [],
   "source": []
  }
 ],
 "metadata": {
  "kernelspec": {
   "display_name": "Python 3 (ipykernel)",
   "language": "python",
   "name": "python3"
  },
  "language_info": {
   "codemirror_mode": {
    "name": "ipython",
    "version": 3
   },
   "file_extension": ".py",
   "mimetype": "text/x-python",
   "name": "python",
   "nbconvert_exporter": "python",
   "pygments_lexer": "ipython3",
   "version": "3.11.3"
  }
 },
 "nbformat": 4,
 "nbformat_minor": 5
}
